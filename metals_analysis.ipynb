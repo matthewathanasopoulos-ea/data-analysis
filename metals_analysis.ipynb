{
 "cells": [
  {
   "cell_type": "markdown",
   "id": "74ba10dc-625d-4b69-b850-6955c42eeebe",
   "metadata": {},
   "source": [
    "# looking at metals stuff"
   ]
  },
  {
   "cell_type": "code",
   "execution_count": 9,
   "id": "698a095d-8d92-4249-a875-a0c61f7821d9",
   "metadata": {},
   "outputs": [],
   "source": [
    "import pandas as pd\n",
    "import statsmodels.api as sm\n",
    "import matplotlib.pyplot as plt\n",
    "import scipy.stats as stats\n",
    "from statsmodels.stats.stattools import durbin_watson\n",
    "from scipy.stats import shapiro\n",
    "from statsmodels.stats.diagnostic import het_breuschpagan\n",
    "from statsmodels.graphics.tsaplots import plot_acf, plot_pacf\n",
    "\n",
    "from dotenv import load_dotenv\n",
    "from helper_functions_ea import ShoojuTools\n",
    "import plotly.graph_objects as go\n",
    "import plotly.express as px\n",
    "from plotly.subplots import make_subplots\n",
    "import pandas as pd\n",
    "import numpy as np\n",
    "shooju_helper = ShoojuTools()"
   ]
  },
  {
   "cell_type": "code",
   "execution_count": 10,
   "id": "0b10a547-88c0-4aa4-b1d3-6bf6f26b1aab",
   "metadata": {},
   "outputs": [
    {
     "name": "stderr",
     "output_type": "stream",
     "text": [
      "C:\\Users\\matt.athanasopoulos\\EAGit\\data-analysis\\.venv\\Lib\\site-packages\\shooju\\utils\\convert.py:12: SyntaxWarning: invalid escape sequence '\\s'\n",
      "  It\\s correctly handles dst transitions avoiding gaps and repeating hours.\n"
     ]
    }
   ],
   "source": [
    "brent_ = shooju_helper.sj.get_df(query=r'sid=databento\\futures\\continuous_contracts\\ratio_price_adjusted\\3\\BRN\\Settlementprice', fields=None, max_points=-1)\n",
    "gold_ = shooju_helper.sj.get_df(query=r'sid=databento\\futures\\continuous_contracts\\ratio_price_adjusted\\35\\GC\\Settlementprice', fields=None, max_points=-1)\n",
    "brent_ = shooju_helper.sj.get_df(query=r'sid=databento\\futures\\continuous_contracts\\ratio_price_adjusted\\3\\BRN\\Settlementprice', fields=None, max_points=-1)"
   ]
  },
  {
   "cell_type": "code",
   "execution_count": null,
   "id": "f6384359-12a2-4028-ae3a-f240f9850867",
   "metadata": {},
   "outputs": [],
   "source": []
  }
 ],
 "metadata": {
  "kernelspec": {
   "display_name": "Python 3 (ipykernel)",
   "language": "python",
   "name": "python3"
  },
  "language_info": {
   "codemirror_mode": {
    "name": "ipython",
    "version": 3
   },
   "file_extension": ".py",
   "mimetype": "text/x-python",
   "name": "python",
   "nbconvert_exporter": "python",
   "pygments_lexer": "ipython3",
   "version": "3.12.10"
  }
 },
 "nbformat": 4,
 "nbformat_minor": 5
}

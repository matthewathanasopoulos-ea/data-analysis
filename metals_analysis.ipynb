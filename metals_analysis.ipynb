{
 "cells": [
  {
   "cell_type": "markdown",
   "id": "74ba10dc-625d-4b69-b850-6955c42eeebe",
   "metadata": {},
   "source": [
    "# looking at metals stuff"
   ]
  },
  {
   "cell_type": "code",
   "execution_count": 1,
   "id": "ddf847ea-304b-4449-88be-bc79d475c578",
   "metadata": {},
   "outputs": [],
   "source": [
    "import pandas as pd\n",
    "import numpy as np\n",
    "import seaborn as sns\n",
    "import matplotlib.pyplot as plt\n",
    "import scipy as sp"
   ]
  },
  {
   "cell_type": "code",
   "execution_count": 2,
   "id": "0af257a5-1b2b-4348-b9b1-fc8f69a1ba8b",
   "metadata": {},
   "outputs": [
    {
     "data": {
      "text/plain": [
       "<pandas._config.config.DictWrapper at 0x1dba119f0e0>"
      ]
     },
     "execution_count": 2,
     "metadata": {},
     "output_type": "execute_result"
    }
   ],
   "source": []
  },
  {
   "cell_type": "code",
   "execution_count": null,
   "id": "22bd8681-2fc2-4fac-b88a-d3db2f07ecdc",
   "metadata": {},
   "outputs": [],
   "source": []
  }
 ],
 "metadata": {
  "kernelspec": {
   "display_name": "Python 3 (ipykernel)",
   "language": "python",
   "name": "python3"
  },
  "language_info": {
   "codemirror_mode": {
    "name": "ipython",
    "version": 3
   },
   "file_extension": ".py",
   "mimetype": "text/x-python",
   "name": "python",
   "nbconvert_exporter": "python",
   "pygments_lexer": "ipython3",
   "version": "3.12.10"
  }
 },
 "nbformat": 4,
 "nbformat_minor": 5
}
